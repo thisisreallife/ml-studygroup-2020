{
 "cells": [
  {
   "cell_type": "code",
   "execution_count": 75,
   "metadata": {
    "ExecuteTime": {
     "end_time": "2019-05-11T07:17:04.945674Z",
     "start_time": "2019-05-11T07:17:04.930715Z"
    }
   },
   "outputs": [],
   "source": [
    "import matplotlib\n",
    "import matplotlib.pyplot as plt\n",
    "# matplotlib.use('Agg')\n",
    "%matplotlib inline\n",
    "import random as random\n",
    "import numpy as np\n",
    "import csv"
   ]
  },
  {
   "cell_type": "code",
   "execution_count": 76,
   "metadata": {
    "ExecuteTime": {
     "end_time": "2019-05-11T07:17:04.953653Z",
     "start_time": "2019-05-11T07:17:04.947670Z"
    }
   },
   "outputs": [],
   "source": [
    "# suppose we already collect 10 samples\n",
    "x_data = [ 338.,  333.,  328. , 207. , 226.  , 25. , 179. ,  60. , 208.,  606.]\n",
    "y_data = [  640.  , 633. ,  619.  , 393.  , 428. ,   27.  , 193.  ,  66. ,  226. , 1591.]"
   ]
  },
  {
   "cell_type": "code",
   "execution_count": 77,
   "metadata": {
    "ExecuteTime": {
     "end_time": "2019-05-11T07:17:05.322665Z",
     "start_time": "2019-05-11T07:17:04.955648Z"
    }
   },
   "outputs": [],
   "source": [
    "# generalize parameter space X,Y and innitialize error matrix Z\n",
    "x = np.arange(-200,-100,1) #bias\n",
    "y = np.arange(-5,5,0.1) #weight\n",
    "Z =  np.zeros((len(x), len(y)))\n",
    "X, Y = np.meshgrid(x, y)\n",
    "\n",
    "# compute error matrix Z, so that we can draw a contour plot in last\n",
    "for i in range(len(x)):\n",
    "    for j in range(len(y)):\n",
    "        b = x[i]\n",
    "        w = y[j]\n",
    "#         Z[j][i] = 0\n",
    "        for n in range(len(x_data)):\n",
    "            Z[j][i] = Z[j][i] +  (y_data[n] - b - w*x_data[n])**2\n",
    "#         Z[j][i] = Z[j][i]/len(x_data)"
   ]
  },
  {
   "cell_type": "code",
   "execution_count": 78,
   "metadata": {
    "ExecuteTime": {
     "end_time": "2019-05-11T07:17:07.745188Z",
     "start_time": "2019-05-11T07:17:05.324662Z"
    }
   },
   "outputs": [
    {
     "data": {
      "image/png": "[encoded data removed]",
      "text/plain": [
       "<matplotlib.figure.Figure at 0x15fb56ddeb8>"
      ]
     },
     "metadata": {},
     "output_type": "display_data"
    }
   ],
   "source": [
    "# ydata = b + w * xdata \n",
    "b = -120 # initial b\n",
    "w = -4 # initial w\n",
    "lr = 1 # learning rate\n",
    "iteration = 100000\n",
    "\n",
    "\n",
    "b_lr = 0.0\n",
    "w_lr = 0.0\n",
    "\n",
    "# Store initial values for plotting.\n",
    "b_history = [b]\n",
    "w_history = [w]\n",
    "\n",
    "# Iterations\n",
    "for i in range(iteration):\n",
    "    \n",
    "    b_grad = 0.0\n",
    "    w_grad = 0.0\n",
    "    for n in range(len(x_data)):        \n",
    "        b_grad = b_grad  - 2.0*(y_data[n] - b - w*x_data[n])*1.0\n",
    "        w_grad = w_grad  - 2.0*(y_data[n] - b - w*x_data[n])*x_data[n]\n",
    "    \n",
    "    b_lr = b_lr + b_grad**2 \n",
    "    w_lr = w_lr + w_grad**2 \n",
    "    \n",
    "    # Update parameters using ada gradient descent\n",
    "    b = b - lr/np.sqrt(b_lr) * b_grad \n",
    "    w = w - lr/np.sqrt(w_lr) * w_grad\n",
    "    \n",
    "    # Store parameters for plotting\n",
    "    b_history.append(b)\n",
    "    w_history.append(w)\n",
    "\n",
    "# plot the figure\n",
    "plt.contourf(x,y,Z, 50, alpha=0.5, cmap=plt.get_cmap('jet')) # layers = 0.3, diaphaneity = 0.5，color scheme = jet\n",
    "plt.plot([-188.4], [2.67], 'x', ms=12, markeredgewidth=3, color='orange') # the closed form solution\n",
    "plt.plot(b_history, w_history, 'o-', ms=3, lw=1.5, color='black') # marker size = 3, line width = 1.5\n",
    "plt.xlim(-200,-100)\n",
    "plt.ylim(-5,5)\n",
    "plt.xlabel(r'$b$', fontsize=16) # should we type it with r'$b$', r'$\\mathrm{b}$' or 'b'??\n",
    "plt.ylabel(r'$w$', fontsize=16)\n",
    "plt.show()"
   ]
  }
 ],
 "metadata": {
  "kernelspec": {
   "display_name": "Python 3",
   "language": "python",
   "name": "python3"
  },
  "language_info": {
   "codemirror_mode": {
    "name": "ipython",
    "version": 3
   },
   "file_extension": ".py",
   "mimetype": "text/x-python",
   "name": "python",
   "nbconvert_exporter": "python",
   "pygments_lexer": "ipython3",
   "version": "3.6.1"
  }
 },
 "nbformat": 4,
 "nbformat_minor": 1
}
